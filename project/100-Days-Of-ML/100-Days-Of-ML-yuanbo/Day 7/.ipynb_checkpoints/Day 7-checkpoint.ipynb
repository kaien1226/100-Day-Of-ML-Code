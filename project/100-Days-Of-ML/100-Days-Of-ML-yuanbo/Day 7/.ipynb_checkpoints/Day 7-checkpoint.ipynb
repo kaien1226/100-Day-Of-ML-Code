{
 "cells": [
  {
   "cell_type": "markdown",
   "metadata": {},
   "source": [
    "## Importing the libraries"
   ]
  },
  {
   "cell_type": "code",
   "execution_count": 1,
   "metadata": {},
   "outputs": [
    {
     "name": "stderr",
     "output_type": "stream",
     "text": [
      "/home/zhengyuanbo/anaconda3/lib/python3.6/importlib/_bootstrap.py:219: RuntimeWarning: numpy.dtype size changed, may indicate binary incompatibility. Expected 96, got 88\n",
      "  return f(*args, **kwds)\n"
     ]
    }
   ],
   "source": [
    "import numpy as np\n",
    "import matplotlib.pyplot as plt\n",
    "import pandas as pd"
   ]
  },
  {
   "cell_type": "markdown",
   "metadata": {},
   "source": [
    "## Importing the dataset"
   ]
  },
  {
   "cell_type": "code",
   "execution_count": 2,
   "metadata": {},
   "outputs": [],
   "source": [
    "dataset = pd.read_csv('/home/zhengyuanbo/project/100-Days-Of-ML/100-Days-Of-ML-yuanbo/datasets/Social_Network_Ads.csv')\n",
    "X = dataset.iloc[:, [2,3]].values\n",
    "Y = dataset.iloc[:, 4].values"
   ]
  },
  {
   "cell_type": "markdown",
   "metadata": {},
   "source": [
    "## Splitting the dataset into the training set and test set"
   ]
  },
  {
   "cell_type": "code",
   "execution_count": 4,
   "metadata": {},
   "outputs": [],
   "source": [
    "from sklearn.cross_validation import train_test_split\n",
    "X_train, X_test, Y_train, Y_test = train_test_split(X, Y, test_size = 0.25,random_state = 0)"
   ]
  },
  {
   "cell_type": "markdown",
   "metadata": {},
   "source": [
    "## Feature scaling"
   ]
  },
  {
   "cell_type": "code",
   "execution_count": 11,
   "metadata": {
    "scrolled": true
   },
   "outputs": [
    {
     "name": "stdout",
     "output_type": "stream",
     "text": [
      "[[-0.80480212  0.50496393]\n",
      " [-0.01254409 -0.5677824 ]\n",
      " [-0.30964085  0.1570462 ]\n",
      " [-0.80480212  0.27301877]\n",
      " [-0.30964085 -0.5677824 ]\n",
      " [-1.10189888 -1.43757673]\n",
      " [-0.70576986 -1.58254245]\n",
      " [-0.21060859  2.15757314]\n",
      " [-1.99318916 -0.04590581]\n",
      " [ 0.8787462  -0.77073441]\n",
      " [-0.80480212 -0.59677555]\n",
      " [-1.00286662 -0.42281668]\n",
      " [-0.11157634 -0.42281668]\n",
      " [ 0.08648817  0.21503249]\n",
      " [-1.79512465  0.47597078]\n",
      " [-0.60673761  1.37475825]\n",
      " [-0.11157634  0.21503249]\n",
      " [-1.89415691  0.44697764]\n",
      " [ 1.67100423  1.75166912]\n",
      " [-0.30964085 -1.37959044]\n",
      " [-0.30964085 -0.65476184]\n",
      " [ 0.8787462   2.15757314]\n",
      " [ 0.28455268 -0.53878926]\n",
      " [ 0.8787462   1.02684052]\n",
      " [-1.49802789 -1.20563157]\n",
      " [ 1.07681071  2.07059371]\n",
      " [-1.00286662  0.50496393]\n",
      " [-0.90383437  0.30201192]\n",
      " [-0.11157634 -0.21986468]\n",
      " [-0.60673761  0.47597078]\n",
      " [-1.6960924   0.53395707]\n",
      " [-0.11157634  0.27301877]\n",
      " [ 1.86906873 -0.27785096]\n",
      " [-0.11157634 -0.48080297]\n",
      " [-1.39899564 -0.33583725]\n",
      " [-1.99318916 -0.50979612]\n",
      " [-1.59706014  0.33100506]\n",
      " [-0.4086731  -0.77073441]\n",
      " [-0.70576986 -1.03167271]\n",
      " [ 1.07681071 -0.97368642]\n",
      " [-1.10189888  0.53395707]\n",
      " [ 0.28455268 -0.50979612]\n",
      " [-1.10189888  0.41798449]\n",
      " [-0.30964085 -1.43757673]\n",
      " [ 0.48261718  1.22979253]\n",
      " [-1.10189888 -0.33583725]\n",
      " [-0.11157634  0.30201192]\n",
      " [ 1.37390747  0.59194336]\n",
      " [-1.20093113 -1.14764529]\n",
      " [ 1.07681071  0.47597078]\n",
      " [ 1.86906873  1.51972397]\n",
      " [-0.4086731  -1.29261101]\n",
      " [-0.30964085 -0.3648304 ]\n",
      " [-0.4086731   1.31677196]\n",
      " [ 2.06713324  0.53395707]\n",
      " [ 0.68068169 -1.089659  ]\n",
      " [-0.90383437  0.38899135]\n",
      " [-1.20093113  0.30201192]\n",
      " [ 1.07681071 -1.20563157]\n",
      " [-1.49802789 -1.43757673]\n",
      " [-0.60673761 -1.49556302]\n",
      " [ 2.1661655  -0.79972756]\n",
      " [-1.89415691  0.18603934]\n",
      " [-0.21060859  0.85288166]\n",
      " [-1.89415691 -1.26361786]\n",
      " [ 2.1661655   0.38899135]\n",
      " [-1.39899564  0.56295021]\n",
      " [-1.10189888 -0.33583725]\n",
      " [ 0.18552042 -0.65476184]\n",
      " [ 0.38358493  0.01208048]\n",
      " [-0.60673761  2.331532  ]\n",
      " [-0.30964085  0.21503249]\n",
      " [-1.59706014 -0.19087153]\n",
      " [ 0.68068169 -1.37959044]\n",
      " [-1.10189888  0.56295021]\n",
      " [-1.99318916  0.35999821]\n",
      " [ 0.38358493  0.27301877]\n",
      " [ 0.18552042 -0.27785096]\n",
      " [ 1.47293972 -1.03167271]\n",
      " [ 0.8787462   1.08482681]\n",
      " [ 1.96810099  2.15757314]\n",
      " [ 2.06713324  0.38899135]\n",
      " [-1.39899564 -0.42281668]\n",
      " [-1.20093113 -1.00267957]\n",
      " [ 1.96810099 -0.91570013]\n",
      " [ 0.38358493  0.30201192]\n",
      " [ 0.18552042  0.1570462 ]\n",
      " [ 2.06713324  1.75166912]\n",
      " [ 0.77971394 -0.8287207 ]\n",
      " [ 0.28455268 -0.27785096]\n",
      " [ 0.38358493 -0.16187839]\n",
      " [-0.11157634  2.21555943]\n",
      " [-1.49802789 -0.62576869]\n",
      " [-1.29996338 -1.06066585]\n",
      " [-1.39899564  0.41798449]\n",
      " [-1.10189888  0.76590222]\n",
      " [-1.49802789 -0.19087153]\n",
      " [ 0.97777845 -1.06066585]\n",
      " [ 0.97777845  0.59194336]\n",
      " [ 0.38358493  0.99784738]]\n"
     ]
    }
   ],
   "source": [
    "from sklearn.preprocessing import StandardScaler\n",
    "sc = StandardScaler()\n",
    "X_train = sc.fit_transform(X_train)\n",
    "X_test = sc.transform(X_test)\n",
    "print(X_test)"
   ]
  },
  {
   "cell_type": "markdown",
   "metadata": {},
   "source": [
    "## Fitting K-NN to the train set "
   ]
  },
  {
   "cell_type": "code",
   "execution_count": 8,
   "metadata": {},
   "outputs": [
    {
     "data": {
      "text/plain": [
       "KNeighborsClassifier(algorithm='auto', leaf_size=30, metric='minkowski',\n",
       "           metric_params=None, n_jobs=1, n_neighbors=5, p=2,\n",
       "           weights='uniform')"
      ]
     },
     "execution_count": 8,
     "metadata": {},
     "output_type": "execute_result"
    }
   ],
   "source": [
    "from sklearn.neighbors import KNeighborsClassifier\n",
    "classifier = KNeighborsClassifier(n_neighbors = 5, metric = 'minkowski', p = 2)\n",
    "classifier.fit(X_train, Y_train)"
   ]
  },
  {
   "cell_type": "markdown",
   "metadata": {},
   "source": [
    "## Predicting the test set results"
   ]
  },
  {
   "cell_type": "code",
   "execution_count": 9,
   "metadata": {},
   "outputs": [],
   "source": [
    "Y_pred = classifier.predict(X_test)"
   ]
  },
  {
   "cell_type": "markdown",
   "metadata": {},
   "source": [
    "## Making the confusion matrix"
   ]
  },
  {
   "cell_type": "code",
   "execution_count": 10,
   "metadata": {},
   "outputs": [
    {
     "name": "stdout",
     "output_type": "stream",
     "text": [
      "[[64  4]\n",
      " [ 3 29]]\n"
     ]
    }
   ],
   "source": [
    "from sklearn.metrics import confusion_matrix\n",
    "cm = confusion_matrix(Y_test, Y_pred)\n",
    "print(cm)"
   ]
  },
  {
   "cell_type": "markdown",
   "metadata": {},
   "source": [
    "# Visualization"
   ]
  },
  {
   "cell_type": "markdown",
   "metadata": {},
   "source": [
    "## Set map color "
   ]
  },
  {
   "cell_type": "code",
   "execution_count": 49,
   "metadata": {},
   "outputs": [],
   "source": [
    "from matplotlib.colors import ListedColormap\n",
    "cmap_light = ListedColormap(['#FFAAAA', '#00FFAA'])\n",
    "cmap_bold = ListedColormap(['#FF0000', '#00FF00'])"
   ]
  },
  {
   "cell_type": "markdown",
   "metadata": {},
   "source": [
    "## Set train set boundaries"
   ]
  },
  {
   "cell_type": "code",
   "execution_count": 47,
   "metadata": {
    "scrolled": true
   },
   "outputs": [
    {
     "name": "stdout",
     "output_type": "stream",
     "text": [
      "[0 0 0 0 0 0 0 1 0 0 0 0 0 0 0 0 0 0 1 0 0 1 0 1 0 1 0 0 0 0 0 1 1 0 0 0 0\n",
      " 0 0 1 0 0 0 0 1 0 0 1 0 1 1 0 0 0 1 1 0 0 1 0 0 1 0 1 0 1 0 0 0 0 1 0 0 1\n",
      " 0 0 0 0 1 1 1 0 0 0 1 1 0 1 1 0 0 1 0 0 0 1 0 1 1 1]\n"
     ]
    }
   ],
   "source": [
    "x_train_coordinate = X_train[:, 0]\n",
    "y_train_coordinate = X_train[:, 1]\n",
    "x_test_coordinate = X_test[:, 0]\n",
    "y_test_coordinate = X_test[:, 1]\n",
    "x_train_min, x_trian_max = x_train_coordinate.min() - 0.5, x_train_coordinate.max() + 0.5\n",
    "y_train_min, y_train_max = y_train_coordinate.min() - 0.5, y_train_coordinate.max() + 0.5 \n",
    "\n",
    "xx, yy = np.meshgrid(np.arange(x_train_min, x_trian_max, 0.02),np.arange(y_train_min, y_train_max, 0.02))\n",
    "print(Y_test)\n",
    "Z = classifier.predict(np.c_[xx.ravel(), yy.ravel()])\n",
    "Z = Z.reshape(xx.shape)"
   ]
  },
  {
   "cell_type": "markdown",
   "metadata": {},
   "source": [
    "## Draw test set and train set data"
   ]
  },
  {
   "cell_type": "code",
   "execution_count": 50,
   "metadata": {},
   "outputs": [
    {
     "data": {
      "text/plain": [
       "<function matplotlib.pyplot.show(*args, **kw)>"
      ]
     },
     "execution_count": 50,
     "metadata": {},
     "output_type": "execute_result"
    },
    {
     "data": {
      "image/png": "[encoded data removed]",
      "text/plain": [
       "<Figure size 1080x360 with 2 Axes>"
      ]
     },
     "metadata": {},
     "output_type": "display_data"
    }
   ],
   "source": [
    "plt.figure(figsize = (15,5))\n",
    "plt.subplot(121)\n",
    "plt.pcolormesh(xx, yy, Z, cmap = cmap_light)\n",
    "plt.scatter(x_test_coordinate[Y_test == 0], y_test_coordinate[Y_test == 0], color = 'b', marker = 'o', label = 'Y=0')\n",
    "plt.scatter(x_test_coordinate[Y_test == 1], y_test_coordinate[Y_test == 1], color = 'r',marker = '+', label = 'Y=1')\n",
    "plt.xlabel('Age')\n",
    "plt.ylabel('salay')\n",
    "plt.legend(loc=1)\n",
    "plt.title('Test set')\n",
    "\n",
    "plt.subplot(122)\n",
    "plt.pcolormesh(xx, yy, Z, cmap = cmap_light)\n",
    "plt.scatter(x_train_coordinate[Y_train == 0], y_train_coordinate[Y_train == 0], color = 'b', marker = 'o', label = 'Y=0')\n",
    "plt.scatter(x_train_coordinate[Y_train == 1], y_train_coordinate[Y_train == 1], color = 'r',marker = '+', label = 'Y=1')\n",
    "plt.xlabel('Age')\n",
    "plt.ylabel('salay')\n",
    "plt.legend(loc=1)\n",
    "plt.title('Train set')\n",
    "plt.show"
   ]
  },
  {
   "cell_type": "code",
   "execution_count": null,
   "metadata": {},
   "outputs": [],
   "source": []
  }
 ],
 "metadata": {
  "kernelspec": {
   "display_name": "Python 3",
   "language": "python",
   "name": "python3"
  },
  "language_info": {
   "codemirror_mode": {
    "name": "ipython",
    "version": 3
   },
   "file_extension": ".py",
   "mimetype": "text/x-python",
   "name": "python",
   "nbconvert_exporter": "python",
   "pygments_lexer": "ipython3",
   "version": "3.6.5"
  }
 },
 "nbformat": 4,
 "nbformat_minor": 2
}
